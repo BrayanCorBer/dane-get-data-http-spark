{
 "cells": [
  {
   "cell_type": "code",
   "execution_count": 2,
   "id": "c882df2a",
   "metadata": {},
   "outputs": [
    {
     "name": "stdout",
     "output_type": "stream",
     "text": [
      "Requirement already satisfied: pyspark in c:\\users\\braya\\anaconda3\\envs\\pyspark-tutorials\\lib\\site-packages (3.4.1)\n",
      "Requirement already satisfied: py4j==0.10.9.7 in c:\\users\\braya\\anaconda3\\envs\\pyspark-tutorials\\lib\\site-packages (from pyspark) (0.10.9.7)\n"
     ]
    }
   ],
   "source": [
    "!pip install pyspark"
   ]
  },
  {
   "cell_type": "code",
   "execution_count": 3,
   "id": "02f8d461",
   "metadata": {},
   "outputs": [],
   "source": [
    "import pyspark"
   ]
  },
  {
   "cell_type": "code",
   "execution_count": 4,
   "id": "b62ef588",
   "metadata": {},
   "outputs": [],
   "source": [
    "from pyspark.sql import SparkSession"
   ]
  },
  {
   "cell_type": "code",
   "execution_count": 5,
   "id": "249250f0",
   "metadata": {},
   "outputs": [],
   "source": [
    "spark=SparkSession.Builder().appName('test').getOrCreate()"
   ]
  },
  {
   "cell_type": "code",
   "execution_count": 5,
   "id": "2854b6a6",
   "metadata": {
    "collapsed": true
   },
   "outputs": [
    {
     "data": {
      "text/html": [
       "\n",
       "            <div>\n",
       "                <p><b>SparkSession - in-memory</b></p>\n",
       "                \n",
       "        <div>\n",
       "            <p><b>SparkContext</b></p>\n",
       "\n",
       "            <p><a href=\"http://aeroXb17:4040\">Spark UI</a></p>\n",
       "\n",
       "            <dl>\n",
       "              <dt>Version</dt>\n",
       "                <dd><code>v3.4.1</code></dd>\n",
       "              <dt>Master</dt>\n",
       "                <dd><code>local[*]</code></dd>\n",
       "              <dt>AppName</dt>\n",
       "                <dd><code>test</code></dd>\n",
       "            </dl>\n",
       "        </div>\n",
       "        \n",
       "            </div>\n",
       "        "
      ],
      "text/plain": [
       "<pyspark.sql.session.SparkSession at 0x1f2daaaef50>"
      ]
     },
     "execution_count": 5,
     "metadata": {},
     "output_type": "execute_result"
    }
   ],
   "source": [
    "spark"
   ]
  },
  {
   "cell_type": "code",
   "execution_count": 9,
   "id": "16605bf8",
   "metadata": {},
   "outputs": [],
   "source": [
    "dataframe = spark.read.csv('dataframe_instituciones.csv', header=True, inferSchema=True)"
   ]
  },
  {
   "cell_type": "code",
   "execution_count": 7,
   "id": "31c963c1",
   "metadata": {},
   "outputs": [],
   "source": [
    "direccion = dataframe.select('DIRECCIÓN')"
   ]
  },
  {
   "cell_type": "code",
   "execution_count": 10,
   "id": "75ffe736",
   "metadata": {},
   "outputs": [
    {
     "name": "stdout",
     "output_type": "stream",
     "text": [
      "+--------------+-----------+--------------------+-------+--------------+--------------------+-------------------+--------------------+---------------------+\n",
      "|No.Inscripción|comentarios|              Nombre|   TIPO|     LOCALIDAD|           DIRECCIÓN|                UPZ|            TELEFONO|FECHA-DE- INSCRIPCION|\n",
      "+--------------+-----------+--------------------+-------+--------------+--------------------+-------------------+--------------------+---------------------+\n",
      "|           190|       null|JARDÍN INFANTIL D...|    PRI|       KENNEDY|KR 78 F 1 22 SEDE...|    KENNEDY CENTRAL|4537160 - 3143956964|           11/01/2007|\n",
      "|           190|       null|JARDÍN INFANTIL D...|    PRI|       KENNEDY|KR 78 F 1 22 SEDE...|    KENNEDY CENTRAL|4537160 - 3143956964|        11/01/2007218|\n",
      "|           218|       null|LICEO PEQUEÑOS QU...|    PRI|      FONTIBÓN|   CL 22 BIS 93 B 07|            MODELIA|             4210843|        19/01/2007256|\n",
      "|           256|       null|TALLERES Y ESPECT...|    PRI|       USAQUÉN|    KR 19 A 104 A 60|      SANTA BÁRBARA|   6297828 - 6200754|        24/01/2007258|\n",
      "|           258|    CONTROL|JARDÍN INFANTIL A...|    PRI|          BOSA| CL 56 F SUR 93 A 14|        EL PORVENIR|   7235923 - 4614255|        25/01/2007259|\n",
      "|           259|       null|  ALLEGRO PREESCOLAR|SED-PRI|       USAQUÉN|      CL 134 A 11 09|         LOS CEDROS|             2741624|        25/01/2007264|\n",
      "|           264|       null|ASPAEN MATERNAL Y...|    PRI|       USAQUÉN|      KR 14 A 119 71|      SANTA BÁRBARA|             6123769|        26/01/2007270|\n",
      "|           270|       null|JARDÍN INFANTIL M...|    PRI|       KENNEDY|      DG 2 F 79 F 20|           CASTILLA|             2928074|        28/01/2007273|\n",
      "|           273|       null|CENTRO DE ESTIMUL...|    PRI|       USAQUÉN|      CL 152 A 17 25|         LOS CEDROS|             2792357|        29/01/2007275|\n",
      "|           275|       null|GIMNASIO GRANDES ...|    PRI|      ENGATIVÁ|       CL 55 73 A 20|      SANTA CECILIA|   4906680 - 2953705|        30/01/2007276|\n",
      "|           276|       null|JARDÍN INFANTIL M...|    PRI|       USAQUÉN|      KR 10 134 B 42|         LOS CEDROS|             5276149|        30/01/2007278|\n",
      "|           278|       null|LOS COLORES DEL A...|    PRI|BARRIOS UNIDOS|       CL 65 A 57 18|    DOCE DE OCTUBRE|             3118081|        30/01/2007281|\n",
      "|           281|       null|GUARDERÍA ESTRELL...|    PRI|CIUDAD BOLÍVAR|     CL 64 SUR 72 43|     ISMAEL PERDOMO|             4007443|        31/01/2007283|\n",
      "|           283|       null|ABC GUARDERÍA Y C...|    PRI|       KENNEDY|       KR 83 13 D 36|           CASTILLA|             4244420|         1/02/2007285|\n",
      "|           285|       null|SALA CUNA GUARDER...|    PRI|          SUBA|      CL 161 C 59 87|           BRITALIA|6782283 - 311 510...|         1/02/2007289|\n",
      "|           289|       null|JARDIN INFANTIL M...|    PRI|          SUBA|      CL 174A 49B 15|SAN JOSE DE BAVARIA|             4681149|         2/02/2007291|\n",
      "|           291|       null|JARDÍN INFANTIL U...|    PRI|       USAQUÉN|      KR 13 A 110 35|      SANTA BÁRBARA|             2147662|         5/02/2007316|\n",
      "|           316|       null|PREESCOLAR SANTA ...|SED-PRI|       USAQUÉN|      KR 11 B 119 10|      SANTA BÁRBARA|             2159255|         9/02/2007338|\n",
      "|           338|       null|JARDÍN INFANTIL Y...|SED-PRI|       USAQUÉN|        KR 23 142 10|         LOS CEDROS|             6252665|        12/02/2007343|\n",
      "|           343|       null|JARDÍN INFANTIL M...|    PRI|       USAQUÉN|    CL 114 A 18 C 17|      SANTA BÁRBARA|             6193429|        13/02/2007356|\n",
      "+--------------+-----------+--------------------+-------+--------------+--------------------+-------------------+--------------------+---------------------+\n",
      "only showing top 20 rows\n",
      "\n"
     ]
    }
   ],
   "source": [
    "dataframe.show()"
   ]
  },
  {
   "cell_type": "code",
   "execution_count": 11,
   "id": "25c327ad",
   "metadata": {},
   "outputs": [
    {
     "name": "stdout",
     "output_type": "stream",
     "text": [
      "root\n",
      " |-- No.Inscripción: integer (nullable = true)\n",
      " |-- comentarios: string (nullable = true)\n",
      " |-- Nombre: string (nullable = true)\n",
      " |-- TIPO: string (nullable = true)\n",
      " |-- LOCALIDAD: string (nullable = true)\n",
      " |-- DIRECCIÓN: string (nullable = true)\n",
      " |-- UPZ: string (nullable = true)\n",
      " |-- TELEFONO: string (nullable = true)\n",
      " |-- FECHA-DE- INSCRIPCION: string (nullable = true)\n",
      "\n"
     ]
    }
   ],
   "source": [
    "dataframe.printSchema()"
   ]
  },
  {
   "cell_type": "code",
   "execution_count": 11,
   "id": "f5f3a9b8",
   "metadata": {},
   "outputs": [
    {
     "data": {
      "text/plain": [
       "['No.Inscripción',\n",
       " 'comentarios',\n",
       " 'Nombre',\n",
       " 'TIPO',\n",
       " 'LOCALIDAD',\n",
       " 'DIRECCIÓN',\n",
       " 'UPZ',\n",
       " 'TELEFONO',\n",
       " 'FECHA-DE- INSCRIPCION']"
      ]
     },
     "execution_count": 11,
     "metadata": {},
     "output_type": "execute_result"
    }
   ],
   "source": [
    "dataframe.columns"
   ]
  },
  {
   "cell_type": "code",
   "execution_count": 14,
   "id": "2da1ad25",
   "metadata": {},
   "outputs": [
    {
     "data": {
      "text/plain": [
       "[Row(No.Inscripción='190', comentarios=None, Nombre='JARDÍN INFANTIL DE TECHO', TIPO='PRI', LOCALIDAD='KENNEDY', DIRECCIÓN='KR 78 F 1 22 SEDE SOCIAL URBANIZACION TECHO', UPZ='KENNEDY CENTRAL', TELEFONO='4537160 - 3143956964', FECHA-DE- INSCRIPCION='11/01/2007'),\n",
       " Row(No.Inscripción='190', comentarios=None, Nombre='JARDÍN INFANTIL DE TECHO', TIPO='PRI', LOCALIDAD='KENNEDY', DIRECCIÓN='KR 78 F 1 22 SEDE SOCIAL URBANIZACION TECHO', UPZ='KENNEDY CENTRAL', TELEFONO='4537160 - 3143956964', FECHA-DE- INSCRIPCION='11/01/2007218'),\n",
       " Row(No.Inscripción='218', comentarios=None, Nombre='LICEO PEQUEÑOS QUERUBINES', TIPO='PRI', LOCALIDAD='FONTIBÓN', DIRECCIÓN='CL 22 BIS 93 B 07', UPZ='MODELIA', TELEFONO='4210843', FECHA-DE- INSCRIPCION='19/01/2007256'),\n",
       " Row(No.Inscripción='256', comentarios=None, Nombre='TALLERES Y ESPECTÁCULOS ESPANTAPAJAROS', TIPO='PRI', LOCALIDAD='USAQUÉN', DIRECCIÓN='KR 19 A 104 A 60', UPZ='SANTA BÁRBARA', TELEFONO='6297828 - 6200754', FECHA-DE- INSCRIPCION='24/01/2007258'),\n",
       " Row(No.Inscripción='258', comentarios='CONTROL', Nombre='JARDÍN INFANTIL AMOR Y SABIDURÍA', TIPO='PRI', LOCALIDAD='BOSA', DIRECCIÓN='CL 56 F SUR 93 A 14', UPZ='EL PORVENIR', TELEFONO='7235923 - 4614255', FECHA-DE- INSCRIPCION='25/01/2007259'),\n",
       " Row(No.Inscripción='259', comentarios=None, Nombre='ALLEGRO PREESCOLAR', TIPO='SED-PRI', LOCALIDAD='USAQUÉN', DIRECCIÓN='CL 134 A 11 09', UPZ='LOS CEDROS', TELEFONO='2741624', FECHA-DE- INSCRIPCION='25/01/2007264'),\n",
       " Row(No.Inscripción='264', comentarios=None, Nombre='ASPAEN MATERNAL Y PREESCOLAR ATAVANZA', TIPO='PRI', LOCALIDAD='USAQUÉN', DIRECCIÓN='KR 14 A 119 71', UPZ='SANTA BÁRBARA', TELEFONO='6123769', FECHA-DE- INSCRIPCION='26/01/2007270'),\n",
       " Row(No.Inscripción='270', comentarios=None, Nombre='JARDÍN INFANTIL MI CASITA FELIZ', TIPO='PRI', LOCALIDAD='KENNEDY', DIRECCIÓN='DG 2 F 79 F 20', UPZ='CASTILLA', TELEFONO='2928074', FECHA-DE- INSCRIPCION='28/01/2007273'),\n",
       " Row(No.Inscripción='273', comentarios=None, Nombre='CENTRO DE ESTIMULACIÓN ADECUADA Y NIVELACION ESCOLAR CHICOS Y BEBES', TIPO='PRI', LOCALIDAD='USAQUÉN', DIRECCIÓN='CL 152 A 17 25', UPZ='LOS CEDROS', TELEFONO='2792357', FECHA-DE- INSCRIPCION='29/01/2007275'),\n",
       " Row(No.Inscripción='275', comentarios=None, Nombre='GIMNASIO GRANDES MARAVILLAS', TIPO='PRI', LOCALIDAD='ENGATIVÁ', DIRECCIÓN='CL 55 73 A 20', UPZ='SANTA CECILIA', TELEFONO='4906680 - 2953705', FECHA-DE- INSCRIPCION='30/01/2007276')]"
      ]
     },
     "execution_count": 14,
     "metadata": {},
     "output_type": "execute_result"
    }
   ],
   "source": [
    "dataframe.head(10)"
   ]
  },
  {
   "cell_type": "code",
   "execution_count": 16,
   "id": "a2ca78e2",
   "metadata": {},
   "outputs": [
    {
     "data": {
      "text/plain": [
       "[('No.Inscripción', 'string'),\n",
       " ('comentarios', 'string'),\n",
       " ('Nombre', 'string'),\n",
       " ('TIPO', 'string'),\n",
       " ('LOCALIDAD', 'string'),\n",
       " ('DIRECCIÓN', 'string'),\n",
       " ('UPZ', 'string'),\n",
       " ('TELEFONO', 'string'),\n",
       " ('FECHA-DE- INSCRIPCION', 'string')]"
      ]
     },
     "execution_count": 16,
     "metadata": {},
     "output_type": "execute_result"
    }
   ],
   "source": [
    "dataframe.dtypes"
   ]
  },
  {
   "cell_type": "code",
   "execution_count": 14,
   "id": "6dba7c24",
   "metadata": {},
   "outputs": [
    {
     "name": "stdout",
     "output_type": "stream",
     "text": [
      "+--------------+-----------+--------------------+-------+--------------+--------------------+-------------------+--------------------+---------------------+\n",
      "|No.Inscripción|comentarios|              Nombre|   TIPO|     LOCALIDAD|           DIRECCIÓN|                UPZ|            TELEFONO|FECHA-DE- INSCRIPCION|\n",
      "+--------------+-----------+--------------------+-------+--------------+--------------------+-------------------+--------------------+---------------------+\n",
      "|           190|       null|JARDÍN INFANTIL D...|    PRI|       KENNEDY|KR 78 F 1 22 SEDE...|    KENNEDY CENTRAL|4537160 - 3143956964|           11/01/2007|\n",
      "|           190|       null|JARDÍN INFANTIL D...|    PRI|       KENNEDY|KR 78 F 1 22 SEDE...|    KENNEDY CENTRAL|4537160 - 3143956964|        11/01/2007218|\n",
      "|           218|       null|LICEO PEQUEÑOS QU...|    PRI|      FONTIBÓN|   CL 22 BIS 93 B 07|            MODELIA|             4210843|        19/01/2007256|\n",
      "|           256|       null|TALLERES Y ESPECT...|    PRI|       USAQUÉN|    KR 19 A 104 A 60|      SANTA BÁRBARA|   6297828 - 6200754|        24/01/2007258|\n",
      "|           258|    CONTROL|JARDÍN INFANTIL A...|    PRI|          BOSA| CL 56 F SUR 93 A 14|        EL PORVENIR|   7235923 - 4614255|        25/01/2007259|\n",
      "|           259|       null|  ALLEGRO PREESCOLAR|SED-PRI|       USAQUÉN|      CL 134 A 11 09|         LOS CEDROS|             2741624|        25/01/2007264|\n",
      "|           264|       null|ASPAEN MATERNAL Y...|    PRI|       USAQUÉN|      KR 14 A 119 71|      SANTA BÁRBARA|             6123769|        26/01/2007270|\n",
      "|           270|       null|JARDÍN INFANTIL M...|    PRI|       KENNEDY|      DG 2 F 79 F 20|           CASTILLA|             2928074|        28/01/2007273|\n",
      "|           273|       null|CENTRO DE ESTIMUL...|    PRI|       USAQUÉN|      CL 152 A 17 25|         LOS CEDROS|             2792357|        29/01/2007275|\n",
      "|           275|       null|GIMNASIO GRANDES ...|    PRI|      ENGATIVÁ|       CL 55 73 A 20|      SANTA CECILIA|   4906680 - 2953705|        30/01/2007276|\n",
      "|           276|       null|JARDÍN INFANTIL M...|    PRI|       USAQUÉN|      KR 10 134 B 42|         LOS CEDROS|             5276149|        30/01/2007278|\n",
      "|           278|       null|LOS COLORES DEL A...|    PRI|BARRIOS UNIDOS|       CL 65 A 57 18|    DOCE DE OCTUBRE|             3118081|        30/01/2007281|\n",
      "|           281|       null|GUARDERÍA ESTRELL...|    PRI|CIUDAD BOLÍVAR|     CL 64 SUR 72 43|     ISMAEL PERDOMO|             4007443|        31/01/2007283|\n",
      "|           283|       null|ABC GUARDERÍA Y C...|    PRI|       KENNEDY|       KR 83 13 D 36|           CASTILLA|             4244420|         1/02/2007285|\n",
      "|           285|       null|SALA CUNA GUARDER...|    PRI|          SUBA|      CL 161 C 59 87|           BRITALIA|6782283 - 311 510...|         1/02/2007289|\n",
      "|           289|       null|JARDIN INFANTIL M...|    PRI|          SUBA|      CL 174A 49B 15|SAN JOSE DE BAVARIA|             4681149|         2/02/2007291|\n",
      "|           291|       null|JARDÍN INFANTIL U...|    PRI|       USAQUÉN|      KR 13 A 110 35|      SANTA BÁRBARA|             2147662|         5/02/2007316|\n",
      "|           316|       null|PREESCOLAR SANTA ...|SED-PRI|       USAQUÉN|      KR 11 B 119 10|      SANTA BÁRBARA|             2159255|         9/02/2007338|\n",
      "|           338|       null|JARDÍN INFANTIL Y...|SED-PRI|       USAQUÉN|        KR 23 142 10|         LOS CEDROS|             6252665|        12/02/2007343|\n",
      "|           343|       null|JARDÍN INFANTIL M...|    PRI|       USAQUÉN|    CL 114 A 18 C 17|      SANTA BÁRBARA|             6193429|        13/02/2007356|\n",
      "+--------------+-----------+--------------------+-------+--------------+--------------------+-------------------+--------------------+---------------------+\n",
      "only showing top 20 rows\n",
      "\n"
     ]
    }
   ],
   "source": [
    "dataframe.show()"
   ]
  },
  {
   "cell_type": "code",
   "execution_count": 23,
   "id": "5012f5ce",
   "metadata": {},
   "outputs": [
    {
     "name": "stdout",
     "output_type": "stream",
     "text": [
      "+------------------+-----+\n",
      "|         LOCALIDAD|count|\n",
      "+------------------+-----+\n",
      "|    BARRIOS UNIDOS|   10|\n",
      "|         CHAPINERO|    5|\n",
      "|       TEUSAQUILLO|    5|\n",
      "|          FONTIBÓN|    7|\n",
      "|RAFAEL URIBE URIBE|   13|\n",
      "|    CIUDAD BOLÍVAR|   25|\n",
      "|        TUNJUELITO|    9|\n",
      "|     PUENTE ARANDA|    8|\n",
      "|              USME|   27|\n",
      "|              SUBA|   28|\n",
      "|          ENGATIVÁ|   17|\n",
      "|           USAQUÉN|   29|\n",
      "|           KENNEDY|   30|\n",
      "|      LOS MÁRTIRES|    4|\n",
      "|    ANTONIO NARIÑO|    4|\n",
      "|          SANTA FE|    9|\n",
      "|              BOSA|   21|\n",
      "|     SAN CRISTÓBAL|   17|\n",
      "| RAFAEL URIBEURIBE|    4|\n",
      "+------------------+-----+\n",
      "\n"
     ]
    }
   ],
   "source": [
    "dataframe.groupBy('LOCALIDAD').count().show()"
   ]
  },
  {
   "cell_type": "code",
   "execution_count": 24,
   "id": "f14b31ec",
   "metadata": {},
   "outputs": [
    {
     "data": {
      "text/plain": [
       "272"
      ]
     },
     "execution_count": 24,
     "metadata": {},
     "output_type": "execute_result"
    }
   ],
   "source": [
    "dataframe.count()"
   ]
  },
  {
   "cell_type": "code",
   "execution_count": 27,
   "id": "a110bd0f",
   "metadata": {},
   "outputs": [
    {
     "name": "stdout",
     "output_type": "stream",
     "text": [
      "+--------------+-----------+--------------------+-----+---------+--------------------+------------------+-----------------+---------------------+\n",
      "|No.Inscripción|comentarios|              Nombre| TIPO|LOCALIDAD|           DIRECCIÓN|               UPZ|         TELEFONO|FECHA-DE- INSCRIPCION|\n",
      "+--------------+-----------+--------------------+-----+---------+--------------------+------------------+-----------------+---------------------+\n",
      "|           588|       null|JARDÍN INFANTIL J...|JSDIS|CHAPINERO|       CL 65 B 01 19|       PARDO RUBIO|3103689 - 4110619|         2/03/2007591|\n",
      "|           591|       null|JARDÍN SOCIAL LA PAZ|   JS|CHAPINERO|    CL 49 03 40 ESTE|       PARDO RUBIO|          3381662|         2/03/2007592|\n",
      "|           594|       null|JARDÍN INFANTIL S...|JSDIS|CHAPINERO|CL 97 06 46 ESTE ...|SAN ISIDRIO-PATIOS|          6485513|         2/03/2007595|\n",
      "|           731|       null|EL ARCA DE NOE CE...|  PRI|CHAPINERO|       CL 70 A 10 03|        CHICO LAGO|          3170909|         7/03/2007752|\n",
      "|           869|       null|       GAN LUBAVITCH|  PRI|CHAPINERO|          CL 94 9 52|        EL REFUGIO|          6185158|        26/03/2007870|\n",
      "+--------------+-----------+--------------------+-----+---------+--------------------+------------------+-----------------+---------------------+\n",
      "\n"
     ]
    }
   ],
   "source": [
    "chapinero = dataframe.filter('LOCALIDAD==\"CHAPINERO\"')\n",
    "chapinero.show()"
   ]
  },
  {
   "cell_type": "code",
   "execution_count": 28,
   "id": "6cfeac25",
   "metadata": {},
   "outputs": [
    {
     "name": "stdout",
     "output_type": "stream",
     "text": [
      "+--------------------+\n",
      "|           DIRECCIÓN|\n",
      "+--------------------+\n",
      "|       CL 65 B 01 19|\n",
      "|    CL 49 03 40 ESTE|\n",
      "|CL 97 06 46 ESTE ...|\n",
      "|       CL 70 A 10 03|\n",
      "|          CL 94 9 52|\n",
      "+--------------------+\n",
      "\n"
     ]
    }
   ],
   "source": [
    "direcciones_chapinero = chapinero.select('DIRECCIÓN')\n",
    "direcciones_chapinero.show()"
   ]
  },
  {
   "cell_type": "code",
   "execution_count": 36,
   "id": "a15a075a",
   "metadata": {},
   "outputs": [
    {
     "name": "stdout",
     "output_type": "stream",
     "text": [
      "CL%65%B%01%19\n",
      "CL%49%03%40%ESTE\n",
      "CL%97%06%46%ESTE%KILOMETRO%5%VIALA%CALERA\n",
      "CL%70%A%10%03\n",
      "CL%94%9%52\n"
     ]
    }
   ],
   "source": [
    "for direction in direcciones_chapinero.collect():\n",
    "    txt = direction[0].replace(' ', '%')\n",
    "    print(txt)"
   ]
  },
  {
   "cell_type": "code",
   "execution_count": null,
   "id": "d9b935a1",
   "metadata": {},
   "outputs": [],
   "source": []
  },
  {
   "cell_type": "code",
   "execution_count": null,
   "id": "e82adb82",
   "metadata": {},
   "outputs": [],
   "source": []
  },
  {
   "cell_type": "code",
   "execution_count": null,
   "id": "b87c2b2b",
   "metadata": {},
   "outputs": [],
   "source": []
  },
  {
   "cell_type": "code",
   "execution_count": null,
   "id": "0a0b6ed0",
   "metadata": {},
   "outputs": [],
   "source": []
  },
  {
   "cell_type": "code",
   "execution_count": null,
   "id": "ccea08b7",
   "metadata": {},
   "outputs": [],
   "source": []
  }
 ],
 "metadata": {
  "kernelspec": {
   "display_name": "Python 3 (ipykernel)",
   "language": "python",
   "name": "python3"
  },
  "language_info": {
   "codemirror_mode": {
    "name": "ipython",
    "version": 3
   },
   "file_extension": ".py",
   "mimetype": "text/x-python",
   "name": "python",
   "nbconvert_exporter": "python",
   "pygments_lexer": "ipython3",
   "version": "3.11.5"
  }
 },
 "nbformat": 4,
 "nbformat_minor": 5
}
